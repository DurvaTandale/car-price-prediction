{
 "cells": [
  {
   "cell_type": "code",
   "execution_count": 1,
   "id": "084f9c2a",
   "metadata": {},
   "outputs": [],
   "source": [
    "import numpy as np\n",
    "import pandas as pd\n",
    "import matplotlib.pyplot as plt\n",
    "\n"
   ]
  },
  {
   "cell_type": "code",
   "execution_count": 40,
   "id": "ea8a07b3",
   "metadata": {},
   "outputs": [],
   "source": [
    "dataset=pd.read_csv('quikr_car.csv')\n",
    "#dataset\n"
   ]
  },
  {
   "cell_type": "code",
   "execution_count": 41,
   "id": "146d2429",
   "metadata": {},
   "outputs": [],
   "source": [
    "#CLEANING DATASET\n",
    "\n",
    "\n",
    "#1.Year column\n",
    "\n",
    "dataset=dataset[dataset['year'].str.isnumeric()]\n",
    "#print(dataset['year'].unique())"
   ]
  },
  {
   "cell_type": "code",
   "execution_count": 42,
   "id": "c8a31ea6",
   "metadata": {},
   "outputs": [],
   "source": [
    "dataset['year']=dataset['year'].astype(int)\n",
    "#print(dataset.info())\n"
   ]
  },
  {
   "cell_type": "code",
   "execution_count": 43,
   "id": "617a2ab0",
   "metadata": {},
   "outputs": [],
   "source": [
    "#2.Price column\n",
    "\n",
    "\n",
    "dataset['Price']=dataset['Price'].str.replace(',','')\n",
    "#print(dataset['Price'].unique())"
   ]
  },
  {
   "cell_type": "code",
   "execution_count": 44,
   "id": "883a0d28",
   "metadata": {},
   "outputs": [],
   "source": [
    "dataset=dataset[dataset['Price'].str.isnumeric()]\n",
    "#print(dataset['Price'].unique())"
   ]
  },
  {
   "cell_type": "code",
   "execution_count": 45,
   "id": "fac81d2c",
   "metadata": {},
   "outputs": [],
   "source": [
    "dataset['Price']=dataset['Price'].astype(int)\n",
    "#print(dataset.info())"
   ]
  },
  {
   "cell_type": "code",
   "execution_count": 46,
   "id": "7e7282bc",
   "metadata": {},
   "outputs": [],
   "source": [
    "#3. kms_driven column\n",
    "\n",
    "dataset['kms_driven']=dataset['kms_driven'].str.replace(',','').str.replace(' kms','')\n",
    "#print(dataset['kms_driven'].unique())"
   ]
  },
  {
   "cell_type": "code",
   "execution_count": 47,
   "id": "998292b0",
   "metadata": {},
   "outputs": [],
   "source": [
    "dataset=dataset[dataset['kms_driven'].str.isnumeric()]\n",
    "#print(dataset['kms_driven'].unique())"
   ]
  },
  {
   "cell_type": "code",
   "execution_count": 48,
   "id": "c19b1185",
   "metadata": {},
   "outputs": [],
   "source": [
    "dataset['kms_driven']=dataset['kms_driven'].astype(int)\n",
    "#print(dataset.info())"
   ]
  },
  {
   "cell_type": "code",
   "execution_count": 49,
   "id": "3362eec7",
   "metadata": {},
   "outputs": [],
   "source": [
    "#4. fuel_type column\n",
    "\n",
    "\n",
    "dataset.dropna(inplace=True)\n",
    "#print(dataset['fuel_type'].unique())"
   ]
  },
  {
   "cell_type": "code",
   "execution_count": 50,
   "id": "53ceb22b",
   "metadata": {},
   "outputs": [],
   "source": [
    "#5. name column\n",
    "\n",
    "dataset[\"name\"] = dataset[\"name\"].str.split(\" \").str.slice(start = 1).str.join(\" \")\n",
    "#print(dataset['name'].unique())"
   ]
  },
  {
   "cell_type": "code",
   "execution_count": 51,
   "id": "854e10c8",
   "metadata": {},
   "outputs": [],
   "source": [
    "dataset.to_csv('cleaned_data.csv')"
   ]
  },
  {
   "cell_type": "code",
   "execution_count": 2,
   "id": "91a60ce9",
   "metadata": {},
   "outputs": [],
   "source": [
    "#Algorithm development (LinearRegression)\n",
    "\n",
    "dataset=pd.read_csv('cleaned_data.csv')\n",
    "#print(dataset.info())"
   ]
  },
  {
   "cell_type": "code",
   "execution_count": 3,
   "id": "c3ae8c4b",
   "metadata": {},
   "outputs": [],
   "source": [
    "X = dataset[[\"name\", \"company\", \"year\", \"kms_driven\", \"fuel_type\"]]\n",
    "y = dataset[[\"Price\"]]"
   ]
  },
  {
   "cell_type": "code",
   "execution_count": 4,
   "id": "4b82144f",
   "metadata": {},
   "outputs": [],
   "source": [
    "#importing libraries\n",
    "\n",
    "from sklearn.model_selection import train_test_split\n",
    "from sklearn.compose import make_column_transformer\n",
    "from sklearn.preprocessing import OneHotEncoder\n",
    "from sklearn.linear_model import LinearRegression\n",
    "from sklearn.pipeline import make_pipeline\n",
    "from sklearn.metrics import r2_score\n"
   ]
  },
  {
   "cell_type": "code",
   "execution_count": 5,
   "id": "4d3d213d",
   "metadata": {},
   "outputs": [],
   "source": [
    "ohe = OneHotEncoder()\n",
    "ohe.fit(X[['name','company','fuel_type']])\n",
    "column_trans = make_column_transformer(\n",
    "    (OneHotEncoder(categories=ohe.categories_),['name','company','fuel_type']),\n",
    "                                    remainder='passthrough')"
   ]
  },
  {
   "cell_type": "code",
   "execution_count": 6,
   "id": "01117f27",
   "metadata": {},
   "outputs": [],
   "source": [
    "scores = []\n",
    "for i in range(0, 100):\n",
    "    X_train, X_test, y_train, y_test = train_test_split(X, y, test_size = 0.01, \n",
    "                                                        random_state = i)\n",
    "    regressor = LinearRegression()\n",
    "    pipe = make_pipeline(column_trans, regressor)\n",
    "    pipe.fit(X_train, y_train)\n",
    "    y_predict = pipe.predict(X_test)\n",
    "    score = r2_score(y_test, y_predict)\n",
    "    scores.append(score)\n",
    "    \n",
    "index = np.argmax(scores)"
   ]
  },
  {
   "cell_type": "code",
   "execution_count": 7,
   "id": "6993257d",
   "metadata": {},
   "outputs": [
    {
     "data": {
      "text/html": [
       "<style>#sk-container-id-1 {color: black;background-color: white;}#sk-container-id-1 pre{padding: 0;}#sk-container-id-1 div.sk-toggleable {background-color: white;}#sk-container-id-1 label.sk-toggleable__label {cursor: pointer;display: block;width: 100%;margin-bottom: 0;padding: 0.3em;box-sizing: border-box;text-align: center;}#sk-container-id-1 label.sk-toggleable__label-arrow:before {content: \"▸\";float: left;margin-right: 0.25em;color: #696969;}#sk-container-id-1 label.sk-toggleable__label-arrow:hover:before {color: black;}#sk-container-id-1 div.sk-estimator:hover label.sk-toggleable__label-arrow:before {color: black;}#sk-container-id-1 div.sk-toggleable__content {max-height: 0;max-width: 0;overflow: hidden;text-align: left;background-color: #f0f8ff;}#sk-container-id-1 div.sk-toggleable__content pre {margin: 0.2em;color: black;border-radius: 0.25em;background-color: #f0f8ff;}#sk-container-id-1 input.sk-toggleable__control:checked~div.sk-toggleable__content {max-height: 200px;max-width: 100%;overflow: auto;}#sk-container-id-1 input.sk-toggleable__control:checked~label.sk-toggleable__label-arrow:before {content: \"▾\";}#sk-container-id-1 div.sk-estimator input.sk-toggleable__control:checked~label.sk-toggleable__label {background-color: #d4ebff;}#sk-container-id-1 div.sk-label input.sk-toggleable__control:checked~label.sk-toggleable__label {background-color: #d4ebff;}#sk-container-id-1 input.sk-hidden--visually {border: 0;clip: rect(1px 1px 1px 1px);clip: rect(1px, 1px, 1px, 1px);height: 1px;margin: -1px;overflow: hidden;padding: 0;position: absolute;width: 1px;}#sk-container-id-1 div.sk-estimator {font-family: monospace;background-color: #f0f8ff;border: 1px dotted black;border-radius: 0.25em;box-sizing: border-box;margin-bottom: 0.5em;}#sk-container-id-1 div.sk-estimator:hover {background-color: #d4ebff;}#sk-container-id-1 div.sk-parallel-item::after {content: \"\";width: 100%;border-bottom: 1px solid gray;flex-grow: 1;}#sk-container-id-1 div.sk-label:hover label.sk-toggleable__label {background-color: #d4ebff;}#sk-container-id-1 div.sk-serial::before {content: \"\";position: absolute;border-left: 1px solid gray;box-sizing: border-box;top: 0;bottom: 0;left: 50%;z-index: 0;}#sk-container-id-1 div.sk-serial {display: flex;flex-direction: column;align-items: center;background-color: white;padding-right: 0.2em;padding-left: 0.2em;position: relative;}#sk-container-id-1 div.sk-item {position: relative;z-index: 1;}#sk-container-id-1 div.sk-parallel {display: flex;align-items: stretch;justify-content: center;background-color: white;position: relative;}#sk-container-id-1 div.sk-item::before, #sk-container-id-1 div.sk-parallel-item::before {content: \"\";position: absolute;border-left: 1px solid gray;box-sizing: border-box;top: 0;bottom: 0;left: 50%;z-index: -1;}#sk-container-id-1 div.sk-parallel-item {display: flex;flex-direction: column;z-index: 1;position: relative;background-color: white;}#sk-container-id-1 div.sk-parallel-item:first-child::after {align-self: flex-end;width: 50%;}#sk-container-id-1 div.sk-parallel-item:last-child::after {align-self: flex-start;width: 50%;}#sk-container-id-1 div.sk-parallel-item:only-child::after {width: 0;}#sk-container-id-1 div.sk-dashed-wrapped {border: 1px dashed gray;margin: 0 0.4em 0.5em 0.4em;box-sizing: border-box;padding-bottom: 0.4em;background-color: white;}#sk-container-id-1 div.sk-label label {font-family: monospace;font-weight: bold;display: inline-block;line-height: 1.2em;}#sk-container-id-1 div.sk-label-container {text-align: center;}#sk-container-id-1 div.sk-container {/* jupyter's `normalize.less` sets `[hidden] { display: none; }` but bootstrap.min.css set `[hidden] { display: none !important; }` so we also need the `!important` here to be able to override the default hidden behavior on the sphinx rendered scikit-learn.org. See: https://github.com/scikit-learn/scikit-learn/issues/21755 */display: inline-block !important;position: relative;}#sk-container-id-1 div.sk-text-repr-fallback {display: none;}</style><div id=\"sk-container-id-1\" class=\"sk-top-container\"><div class=\"sk-text-repr-fallback\"><pre>Pipeline(steps=[(&#x27;columntransformer&#x27;,\n",
       "                 ColumnTransformer(remainder=&#x27;passthrough&#x27;,\n",
       "                                   transformers=[(&#x27;onehotencoder&#x27;,\n",
       "                                                  OneHotEncoder(categories=[array([&#x27;3 Series 320d Sedan&#x27;, &#x27;3 Series 320i&#x27;, &#x27;5 Series 520d Sedan&#x27;,\n",
       "       &#x27;5 Series 530i&#x27;, &#x27;7 Series 740Li Sedan&#x27;, &#x27;A3 Cabriolet 40 TFSI&#x27;,\n",
       "       &#x27;A4 1.8 TFSI Multitronic Premium Plus&#x27;,\n",
       "       &#x27;A4 2.0 TDI 177bhp Premium&#x27;, &#x27;A6 2.0 TDI Premium&#x27;, &#x27;A8&#x27;, &#x27;Accent&#x27;,\n",
       "       &#x27;Accent Exec...\n",
       "                                                                            array([&#x27;Audi&#x27;, &#x27;BMW&#x27;, &#x27;Chevrolet&#x27;, &#x27;Datsun&#x27;, &#x27;Fiat&#x27;, &#x27;Force&#x27;, &#x27;Ford&#x27;,\n",
       "       &#x27;Hindustan&#x27;, &#x27;Honda&#x27;, &#x27;Hyundai&#x27;, &#x27;Jaguar&#x27;, &#x27;Jeep&#x27;, &#x27;Land&#x27;,\n",
       "       &#x27;Mahindra&#x27;, &#x27;Maruti&#x27;, &#x27;Mercedes&#x27;, &#x27;Mini&#x27;, &#x27;Mitsubishi&#x27;, &#x27;Nissan&#x27;,\n",
       "       &#x27;Renault&#x27;, &#x27;Skoda&#x27;, &#x27;Tata&#x27;, &#x27;Toyota&#x27;, &#x27;Volkswagen&#x27;, &#x27;Volvo&#x27;],\n",
       "      dtype=object),\n",
       "                                                                            array([&#x27;Diesel&#x27;, &#x27;LPG&#x27;, &#x27;Petrol&#x27;], dtype=object)]),\n",
       "                                                  [&#x27;name&#x27;, &#x27;company&#x27;,\n",
       "                                                   &#x27;fuel_type&#x27;])])),\n",
       "                (&#x27;linearregression&#x27;, LinearRegression())])</pre><b>In a Jupyter environment, please rerun this cell to show the HTML representation or trust the notebook. <br />On GitHub, the HTML representation is unable to render, please try loading this page with nbviewer.org.</b></div><div class=\"sk-container\" hidden><div class=\"sk-item sk-dashed-wrapped\"><div class=\"sk-label-container\"><div class=\"sk-label sk-toggleable\"><input class=\"sk-toggleable__control sk-hidden--visually\" id=\"sk-estimator-id-1\" type=\"checkbox\" ><label for=\"sk-estimator-id-1\" class=\"sk-toggleable__label sk-toggleable__label-arrow\">Pipeline</label><div class=\"sk-toggleable__content\"><pre>Pipeline(steps=[(&#x27;columntransformer&#x27;,\n",
       "                 ColumnTransformer(remainder=&#x27;passthrough&#x27;,\n",
       "                                   transformers=[(&#x27;onehotencoder&#x27;,\n",
       "                                                  OneHotEncoder(categories=[array([&#x27;3 Series 320d Sedan&#x27;, &#x27;3 Series 320i&#x27;, &#x27;5 Series 520d Sedan&#x27;,\n",
       "       &#x27;5 Series 530i&#x27;, &#x27;7 Series 740Li Sedan&#x27;, &#x27;A3 Cabriolet 40 TFSI&#x27;,\n",
       "       &#x27;A4 1.8 TFSI Multitronic Premium Plus&#x27;,\n",
       "       &#x27;A4 2.0 TDI 177bhp Premium&#x27;, &#x27;A6 2.0 TDI Premium&#x27;, &#x27;A8&#x27;, &#x27;Accent&#x27;,\n",
       "       &#x27;Accent Exec...\n",
       "                                                                            array([&#x27;Audi&#x27;, &#x27;BMW&#x27;, &#x27;Chevrolet&#x27;, &#x27;Datsun&#x27;, &#x27;Fiat&#x27;, &#x27;Force&#x27;, &#x27;Ford&#x27;,\n",
       "       &#x27;Hindustan&#x27;, &#x27;Honda&#x27;, &#x27;Hyundai&#x27;, &#x27;Jaguar&#x27;, &#x27;Jeep&#x27;, &#x27;Land&#x27;,\n",
       "       &#x27;Mahindra&#x27;, &#x27;Maruti&#x27;, &#x27;Mercedes&#x27;, &#x27;Mini&#x27;, &#x27;Mitsubishi&#x27;, &#x27;Nissan&#x27;,\n",
       "       &#x27;Renault&#x27;, &#x27;Skoda&#x27;, &#x27;Tata&#x27;, &#x27;Toyota&#x27;, &#x27;Volkswagen&#x27;, &#x27;Volvo&#x27;],\n",
       "      dtype=object),\n",
       "                                                                            array([&#x27;Diesel&#x27;, &#x27;LPG&#x27;, &#x27;Petrol&#x27;], dtype=object)]),\n",
       "                                                  [&#x27;name&#x27;, &#x27;company&#x27;,\n",
       "                                                   &#x27;fuel_type&#x27;])])),\n",
       "                (&#x27;linearregression&#x27;, LinearRegression())])</pre></div></div></div><div class=\"sk-serial\"><div class=\"sk-item sk-dashed-wrapped\"><div class=\"sk-label-container\"><div class=\"sk-label sk-toggleable\"><input class=\"sk-toggleable__control sk-hidden--visually\" id=\"sk-estimator-id-2\" type=\"checkbox\" ><label for=\"sk-estimator-id-2\" class=\"sk-toggleable__label sk-toggleable__label-arrow\">columntransformer: ColumnTransformer</label><div class=\"sk-toggleable__content\"><pre>ColumnTransformer(remainder=&#x27;passthrough&#x27;,\n",
       "                  transformers=[(&#x27;onehotencoder&#x27;,\n",
       "                                 OneHotEncoder(categories=[array([&#x27;3 Series 320d Sedan&#x27;, &#x27;3 Series 320i&#x27;, &#x27;5 Series 520d Sedan&#x27;,\n",
       "       &#x27;5 Series 530i&#x27;, &#x27;7 Series 740Li Sedan&#x27;, &#x27;A3 Cabriolet 40 TFSI&#x27;,\n",
       "       &#x27;A4 1.8 TFSI Multitronic Premium Plus&#x27;,\n",
       "       &#x27;A4 2.0 TDI 177bhp Premium&#x27;, &#x27;A6 2.0 TDI Premium&#x27;, &#x27;A8&#x27;, &#x27;Accent&#x27;,\n",
       "       &#x27;Accent Executive Edition&#x27;, &#x27;Accent GLE&#x27;, &#x27;Accent GLX&#x27;...\n",
       "       &#x27;i20 Sportz 1.2&#x27;, &#x27;i20 Sportz 1.4 CRDI&#x27;], dtype=object),\n",
       "                                                           array([&#x27;Audi&#x27;, &#x27;BMW&#x27;, &#x27;Chevrolet&#x27;, &#x27;Datsun&#x27;, &#x27;Fiat&#x27;, &#x27;Force&#x27;, &#x27;Ford&#x27;,\n",
       "       &#x27;Hindustan&#x27;, &#x27;Honda&#x27;, &#x27;Hyundai&#x27;, &#x27;Jaguar&#x27;, &#x27;Jeep&#x27;, &#x27;Land&#x27;,\n",
       "       &#x27;Mahindra&#x27;, &#x27;Maruti&#x27;, &#x27;Mercedes&#x27;, &#x27;Mini&#x27;, &#x27;Mitsubishi&#x27;, &#x27;Nissan&#x27;,\n",
       "       &#x27;Renault&#x27;, &#x27;Skoda&#x27;, &#x27;Tata&#x27;, &#x27;Toyota&#x27;, &#x27;Volkswagen&#x27;, &#x27;Volvo&#x27;],\n",
       "      dtype=object),\n",
       "                                                           array([&#x27;Diesel&#x27;, &#x27;LPG&#x27;, &#x27;Petrol&#x27;], dtype=object)]),\n",
       "                                 [&#x27;name&#x27;, &#x27;company&#x27;, &#x27;fuel_type&#x27;])])</pre></div></div></div><div class=\"sk-parallel\"><div class=\"sk-parallel-item\"><div class=\"sk-item\"><div class=\"sk-label-container\"><div class=\"sk-label sk-toggleable\"><input class=\"sk-toggleable__control sk-hidden--visually\" id=\"sk-estimator-id-3\" type=\"checkbox\" ><label for=\"sk-estimator-id-3\" class=\"sk-toggleable__label sk-toggleable__label-arrow\">onehotencoder</label><div class=\"sk-toggleable__content\"><pre>[&#x27;name&#x27;, &#x27;company&#x27;, &#x27;fuel_type&#x27;]</pre></div></div></div><div class=\"sk-serial\"><div class=\"sk-item\"><div class=\"sk-estimator sk-toggleable\"><input class=\"sk-toggleable__control sk-hidden--visually\" id=\"sk-estimator-id-4\" type=\"checkbox\" ><label for=\"sk-estimator-id-4\" class=\"sk-toggleable__label sk-toggleable__label-arrow\">OneHotEncoder</label><div class=\"sk-toggleable__content\"><pre>OneHotEncoder(categories=[array([&#x27;3 Series 320d Sedan&#x27;, &#x27;3 Series 320i&#x27;, &#x27;5 Series 520d Sedan&#x27;,\n",
       "       &#x27;5 Series 530i&#x27;, &#x27;7 Series 740Li Sedan&#x27;, &#x27;A3 Cabriolet 40 TFSI&#x27;,\n",
       "       &#x27;A4 1.8 TFSI Multitronic Premium Plus&#x27;,\n",
       "       &#x27;A4 2.0 TDI 177bhp Premium&#x27;, &#x27;A6 2.0 TDI Premium&#x27;, &#x27;A8&#x27;, &#x27;Accent&#x27;,\n",
       "       &#x27;Accent Executive Edition&#x27;, &#x27;Accent GLE&#x27;, &#x27;Accent GLX&#x27;, &#x27;Accord&#x27;,\n",
       "       &#x27;Amaze&#x27;, &#x27;Amaze 1.2 S i VTEC&#x27;, &#x27;Amaze 1.2 VX i VTEC&#x27;,\n",
       "       &#x27;Amaze 1.5 E i DTEC&#x27;, &#x27;Am...\n",
       "       &#x27;i20 Magna 1.2&#x27;, &#x27;i20 Magna O 1.2&#x27;, &#x27;i20 Select Variant&#x27;,\n",
       "       &#x27;i20 Sportz 1.2&#x27;, &#x27;i20 Sportz 1.4 CRDI&#x27;], dtype=object),\n",
       "                          array([&#x27;Audi&#x27;, &#x27;BMW&#x27;, &#x27;Chevrolet&#x27;, &#x27;Datsun&#x27;, &#x27;Fiat&#x27;, &#x27;Force&#x27;, &#x27;Ford&#x27;,\n",
       "       &#x27;Hindustan&#x27;, &#x27;Honda&#x27;, &#x27;Hyundai&#x27;, &#x27;Jaguar&#x27;, &#x27;Jeep&#x27;, &#x27;Land&#x27;,\n",
       "       &#x27;Mahindra&#x27;, &#x27;Maruti&#x27;, &#x27;Mercedes&#x27;, &#x27;Mini&#x27;, &#x27;Mitsubishi&#x27;, &#x27;Nissan&#x27;,\n",
       "       &#x27;Renault&#x27;, &#x27;Skoda&#x27;, &#x27;Tata&#x27;, &#x27;Toyota&#x27;, &#x27;Volkswagen&#x27;, &#x27;Volvo&#x27;],\n",
       "      dtype=object),\n",
       "                          array([&#x27;Diesel&#x27;, &#x27;LPG&#x27;, &#x27;Petrol&#x27;], dtype=object)])</pre></div></div></div></div></div></div><div class=\"sk-parallel-item\"><div class=\"sk-item\"><div class=\"sk-label-container\"><div class=\"sk-label sk-toggleable\"><input class=\"sk-toggleable__control sk-hidden--visually\" id=\"sk-estimator-id-5\" type=\"checkbox\" ><label for=\"sk-estimator-id-5\" class=\"sk-toggleable__label sk-toggleable__label-arrow\">remainder</label><div class=\"sk-toggleable__content\"><pre>[&#x27;year&#x27;, &#x27;kms_driven&#x27;]</pre></div></div></div><div class=\"sk-serial\"><div class=\"sk-item\"><div class=\"sk-estimator sk-toggleable\"><input class=\"sk-toggleable__control sk-hidden--visually\" id=\"sk-estimator-id-6\" type=\"checkbox\" ><label for=\"sk-estimator-id-6\" class=\"sk-toggleable__label sk-toggleable__label-arrow\">passthrough</label><div class=\"sk-toggleable__content\"><pre>passthrough</pre></div></div></div></div></div></div></div></div><div class=\"sk-item\"><div class=\"sk-estimator sk-toggleable\"><input class=\"sk-toggleable__control sk-hidden--visually\" id=\"sk-estimator-id-7\" type=\"checkbox\" ><label for=\"sk-estimator-id-7\" class=\"sk-toggleable__label sk-toggleable__label-arrow\">LinearRegression</label><div class=\"sk-toggleable__content\"><pre>LinearRegression()</pre></div></div></div></div></div></div></div>"
      ],
      "text/plain": [
       "Pipeline(steps=[('columntransformer',\n",
       "                 ColumnTransformer(remainder='passthrough',\n",
       "                                   transformers=[('onehotencoder',\n",
       "                                                  OneHotEncoder(categories=[array(['3 Series 320d Sedan', '3 Series 320i', '5 Series 520d Sedan',\n",
       "       '5 Series 530i', '7 Series 740Li Sedan', 'A3 Cabriolet 40 TFSI',\n",
       "       'A4 1.8 TFSI Multitronic Premium Plus',\n",
       "       'A4 2.0 TDI 177bhp Premium', 'A6 2.0 TDI Premium', 'A8', 'Accent',\n",
       "       'Accent Exec...\n",
       "                                                                            array(['Audi', 'BMW', 'Chevrolet', 'Datsun', 'Fiat', 'Force', 'Ford',\n",
       "       'Hindustan', 'Honda', 'Hyundai', 'Jaguar', 'Jeep', 'Land',\n",
       "       'Mahindra', 'Maruti', 'Mercedes', 'Mini', 'Mitsubishi', 'Nissan',\n",
       "       'Renault', 'Skoda', 'Tata', 'Toyota', 'Volkswagen', 'Volvo'],\n",
       "      dtype=object),\n",
       "                                                                            array(['Diesel', 'LPG', 'Petrol'], dtype=object)]),\n",
       "                                                  ['name', 'company',\n",
       "                                                   'fuel_type'])])),\n",
       "                ('linearregression', LinearRegression())])"
      ]
     },
     "execution_count": 7,
     "metadata": {},
     "output_type": "execute_result"
    }
   ],
   "source": [
    "X_train, X_test, y_train, y_test = train_test_split(X, y, test_size = 0.01, random_state = index)\n",
    "regressor = LinearRegression()\n",
    "pipe = make_pipeline(column_trans, regressor)\n",
    "pipe.fit(X_train, y_train)"
   ]
  },
  {
   "cell_type": "code",
   "execution_count": 8,
   "id": "443e530a",
   "metadata": {},
   "outputs": [
    {
     "name": "stdout",
     "output_type": "stream",
     "text": [
      "[[341065.58641659]]\n"
     ]
    }
   ],
   "source": [
    "columns = [\"name\", \"company\", \"year\", \"kms_driven\", \"fuel_type\"]\n",
    "data = np.array([\"EcoSport Titanium 1.5L TDCi\", \"Ford\", 2010, 50000, \"Petrol\"]).reshape(1, 5)\n",
    "myinput = pd.DataFrame(columns = columns, data = data)\n",
    "result = pipe.predict(myinput)\n",
    "print(result)"
   ]
  },
  {
   "cell_type": "code",
   "execution_count": 9,
   "id": "04c88641",
   "metadata": {},
   "outputs": [],
   "source": [
    "import pickle\n",
    "pickle.dump(pipe, open('LinearRegressionModel.pkl', 'wb'))"
   ]
  },
  {
   "cell_type": "code",
   "execution_count": null,
   "id": "7b9c1998",
   "metadata": {},
   "outputs": [],
   "source": []
  }
 ],
 "metadata": {
  "kernelspec": {
   "display_name": "Python 3 (ipykernel)",
   "language": "python",
   "name": "python3"
  },
  "language_info": {
   "codemirror_mode": {
    "name": "ipython",
    "version": 3
   },
   "file_extension": ".py",
   "mimetype": "text/x-python",
   "name": "python",
   "nbconvert_exporter": "python",
   "pygments_lexer": "ipython3",
   "version": "3.10.9"
  }
 },
 "nbformat": 4,
 "nbformat_minor": 5
}
